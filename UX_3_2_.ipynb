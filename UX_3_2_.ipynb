{
  "nbformat": 4,
  "nbformat_minor": 0,
  "metadata": {
    "colab": {
      "name": "UX_3_2__.ipynb",
      "provenance": [],
      "collapsed_sections": []
    },
    "kernelspec": {
      "name": "python3",
      "display_name": "Python 3"
    },
    "language_info": {
      "name": "python"
    }
  },
  "cells": [
    {
      "cell_type": "code",
      "execution_count": null,
      "metadata": {
        "id": "WfYx_nOhP9xI"
      },
      "outputs": [],
      "source": [
        "from datetime import date, datetime\n",
        "import pandas as pd \n",
        "import numpy as np\n",
        "from sklearn.model_selection import train_test_split\n",
        "import matplotlib.pyplot as plt\n",
        "import warnings"
      ]
    },
    {
      "cell_type": "markdown",
      "source": [
        "**Simple Moving Average**"
      ],
      "metadata": {
        "id": "FAGStRGxQRQl"
      }
    },
    {
      "cell_type": "code",
      "source": [
        "def SMA(data,n):\n",
        "    \n",
        "    #додаємо NaN на початку\n",
        "\tsma_list=[np.nan for k in range(n-1)]\n",
        "    \n",
        "\tfor i in range(len(data)-n+1):\n",
        "\t\tsum_n = 0\n",
        "\t\tfor j in range(n):\n",
        "\t\t\tsum_n = sum_n + data[i+j]\n",
        "\t\tsma=sum_n/n\n",
        "\t\tsma_list.append(round(sma, 2))\n",
        "        \n",
        "\treturn sma_list"
      ],
      "metadata": {
        "id": "EkdtzE6UQLYO"
      },
      "execution_count": null,
      "outputs": []
    },
    {
      "cell_type": "markdown",
      "source": [
        "**Linear Weighted Moving Average**"
      ],
      "metadata": {
        "id": "5etv44l1QazH"
      }
    },
    {
      "cell_type": "code",
      "source": [
        "def LWMA(data,n):\n",
        "    \n",
        "\tlma_list=[np.nan for k in range(n-1)]\n",
        "\n",
        "\tfor i in range(len(data)-n+1):\n",
        "\t\tsum_n, sum_j = 0, 0\n",
        "\t\tfor j in range(n):\n",
        "\t\t\tsum_n = sum_n + (j+1)*data[i+j]\n",
        "\t\t\tsum_j = sum_j + (j+1)\n",
        "\t\tlma=sum_n/sum_j\n",
        "\t\tlma_list.append(lma)\n",
        "\n",
        "\treturn lma_list"
      ],
      "metadata": {
        "id": "j6U7YwTyQe5E"
      },
      "execution_count": null,
      "outputs": []
    },
    {
      "cell_type": "markdown",
      "source": [
        "**Exponential Moving Average**"
      ],
      "metadata": {
        "id": "l7XQj8MZQgm8"
      }
    },
    {
      "cell_type": "code",
      "source": [
        "def EMA(data, n, a=0):\n",
        "\tema_list=[data[0]]\n",
        "\tif a==0:\n",
        "\t\ta=2/(n+1)\n",
        "\n",
        "\tfor i in range (1,len(data)):\n",
        "\t\tema = 0\n",
        "\t\tema = (1-a)*ema_list[i-1]+a*data[i]\n",
        "\t\tema_list.append(ema)\n",
        "\n",
        "\treturn ema_list"
      ],
      "metadata": {
        "id": "5c442wnTQi50"
      },
      "execution_count": null,
      "outputs": []
    },
    {
      "cell_type": "markdown",
      "source": [
        "**SO**"
      ],
      "metadata": {
        "id": "c_8JRJwkQlBX"
      }
    },
    {
      "cell_type": "code",
      "source": [
        "def SO(data_close, data_high, data_low, n):\n",
        "\tK, D = [np.nan for k in range(n-1)], [np.nan for k in range(n-1)]\n",
        "\thighest_high, lowest_low = [np.nan for k in range(n-1)], [np.nan for k in range(n-1)]\n",
        "\n",
        "\tfor i in range(len(data_close)-n+1):\n",
        "\t\tlist_n_high, list_n_low = [], []\n",
        "\t\tfor j in range(0, n):\n",
        "\t\t\tlist_n_high.append(data_high[i+j])\n",
        "\t\t\tlist_n_low.append(data_low[i+j])\n",
        "\t\thighest_high.append(max(list_n_high))\n",
        "\t\tlowest_low.append(min(list_n_low))\n",
        "\n",
        "\tfor i in range(n-1, len(highest_high)):\n",
        "\t\tK.append(100*(data_close[i]-lowest_low[i])/(highest_high[i]-lowest_low[i]))\n",
        "\tD = SMA(K, n)\n",
        "\n",
        "\treturn K, D"
      ],
      "metadata": {
        "id": "HaI1nXycQnKV"
      },
      "execution_count": null,
      "outputs": []
    },
    {
      "cell_type": "markdown",
      "source": [
        "**CCI**"
      ],
      "metadata": {
        "id": "-pFB551sQ5BI"
      }
    },
    {
      "cell_type": "code",
      "source": [
        "def CCI(data_close, data_high, data_low, n):\n",
        "\tp_typical = []\n",
        "\n",
        "\tfor i in range(len(data_close)):\n",
        "\t\tp_typical.append((data_close[i]+data_low[i]+data_high[i])/3)\n",
        "\tsma = SMA(p_typical,n)\n",
        "\n",
        "\tMAD = [np.nan for k in range(n-1)]\n",
        "\tfor j in range(n-1, len(data_close)):\n",
        "\t\tmad = 0\n",
        "\t\tfor s in range(n):\n",
        "\t\t\tmad = mad +  abs(p_typical[j-s]-sma[j])\n",
        "\t\tMAD.append(mad/n)\n",
        "\n",
        "\tCCI = [np.nan for n in range(n-1)]\n",
        "\tfor t in range(n-1, len(data_close)):\n",
        "\t\tcci = (p_typical[t]-sma[t])/(0.015*MAD[t])\n",
        "\t\tCCI.append(cci)\n",
        "\n",
        "\treturn CCI"
      ],
      "metadata": {
        "id": "or1TLwu5Q-9t"
      },
      "execution_count": null,
      "outputs": []
    },
    {
      "cell_type": "markdown",
      "source": [
        "**Disparsity Index**"
      ],
      "metadata": {
        "id": "UeCoKKAEREis"
      }
    },
    {
      "cell_type": "code",
      "source": [
        "def DI(data, n, MA_type):\n",
        "    if MA_type == \"EMA\":\n",
        "        MA = EMA(data, n)\n",
        "    elif MA_type == \"LWMA\":\n",
        "        MA = LWMA(data, n)\n",
        "    else:\n",
        "        MA = SMA(data, n)\n",
        "    \n",
        "    di_list = []\n",
        "    for i in range(len(MA)):\n",
        "        if (np.isnan(MA[i])):\n",
        "            di_list.append(np.nan)\n",
        "        else:\n",
        "            di_list.append((data[i]-MA[i])/(100*MA[i]))\n",
        "        \n",
        "    return di_list"
      ],
      "metadata": {
        "id": "f7u6F_4iQ_nv"
      },
      "execution_count": null,
      "outputs": []
    },
    {
      "cell_type": "markdown",
      "source": [
        "**Elder-Ray Index**"
      ],
      "metadata": {
        "id": "Qxx4w--KRHqc"
      }
    },
    {
      "cell_type": "code",
      "source": [
        "def ERI(data_close, data_high, data_low, n):\n",
        "    MA = EMA(data_close, n)\n",
        "    \n",
        "    BuP, BeP = [], []\n",
        "    for i in range(len(data_close)):\n",
        "        BuP.append(data_high[i] - MA[i])\n",
        "        BeP.append(data_low[i] - MA[i])\n",
        "    return BuP, BeP"
      ],
      "metadata": {
        "id": "WER9MGV8RLW1"
      },
      "execution_count": null,
      "outputs": []
    },
    {
      "cell_type": "markdown",
      "source": [
        "**Strategy with moving averages**\n",
        "\n",
        "Сигнали - перетин ціни і плинного середнього\n",
        "\n",
        "P - list of Close prices\n",
        "\n",
        "n1 - к-ть періодів для середнього\n",
        "\n",
        "MA_type - тип середнього (\"SMA\", \"EMA\", \"LWMA\")"
      ],
      "metadata": {
        "id": "--dvS2dkRXt8"
      }
    },
    {
      "cell_type": "code",
      "source": [
        "def strategy_MA_1(P, n1, MA_type, n2=26, n3=9):\n",
        "\tMA= []\n",
        "\tif MA_type == \"SMA\":\n",
        "\t\tMA = SMA(P, n1)\n",
        "\telif MA_type == \"EMA\":\n",
        "\t\tMA = EMA(P, n1)\n",
        "\telif MA_type == \"LWMA\":\n",
        "\t\tMA = LWMA(P, n1)\n",
        "\n",
        "\tif MA_type != \"EMA\":\n",
        "\t\ts=[np.nan for k in range(n1)]\n",
        "\t\tfor i in range(n1, len(MA)):\n",
        "\t\t\tif (P[i-1]<MA[i-1]) and (P[i]>MA[i]):\n",
        "\t\t\t\ts.append(1)\n",
        "\t\t\telif (P[i-1]>MA[i-1]) and (P[i]<MA[i]):\n",
        "\t\t\t\ts.append(-1)\n",
        "\t\t\telse:\n",
        "\t\t\t\ts.append(0)\n",
        "\telif MA_type == \"EMA\":\n",
        "\t\ts=[np.nan]\n",
        "\t\tfor i in range(1,len(MA)):\n",
        "\t\t\tif (P[i-1]<MA[i-1]) and (P[i]>MA[i]):\n",
        "\t\t\t\ts.append(1)\n",
        "\t\t\telif (P[i-1]>MA[i-1]) and (P[i]<MA[i]):\n",
        "\t\t\t\ts.append(-1)\n",
        "\t\t\telse:\n",
        "\t\t\t\ts.append(0)\n",
        "\treturn s"
      ],
      "metadata": {
        "id": "Nu2LbJeERaLN"
      },
      "execution_count": null,
      "outputs": []
    },
    {
      "cell_type": "markdown",
      "source": [
        "**Strategy SO**"
      ],
      "metadata": {
        "id": "YucvKZibRdGn"
      }
    },
    {
      "cell_type": "code",
      "source": [
        "def strategy_SO(P_close, P_high, P_low, n):\n",
        "\tK, D = SO(P_close, P_high, P_low, n)\n",
        "\ts=[np.nan for k in range(n)]\n",
        "\tfor i in range(n, len(P_close)):\n",
        "\t\tif (K[i]>D[i]) and (K[i-1]<D[i-1]):\n",
        "\t\t\ts.append(-1)\n",
        "\t\telif (K[i]<D[i]) and (K[i-1]>D[i-1]):\n",
        "\t\t\ts.append(1)\n",
        "\t\telse:\n",
        "\t\t\ts.append(0)\n",
        "\treturn s"
      ],
      "metadata": {
        "id": "5M6hGv1TRfAJ"
      },
      "execution_count": null,
      "outputs": []
    },
    {
      "cell_type": "markdown",
      "source": [
        "**Strategy CCI**"
      ],
      "metadata": {
        "id": "K63-kEMrRmXG"
      }
    },
    {
      "cell_type": "code",
      "source": [
        "def strategy_CCI(data_close, data_high, data_low, n):\n",
        "\tcci = CCI(data_close, data_high, data_low, n)\n",
        "\ts=[]\n",
        "\tfor i in range(len(data_close)):\n",
        "\t\tif ((cci[i]>0) and (cci[i-1]<0)):\n",
        "\t\t\ts.append(1)\n",
        "\t\telif ((cci[i]<0) and (cci[i-1]>0)):\n",
        "\t\t\ts.append(-1)\n",
        "\t\telse:\n",
        "\t\t\ts.append(0)\n",
        "\treturn s"
      ],
      "metadata": {
        "id": "xzzLOQ6WRoh0"
      },
      "execution_count": null,
      "outputs": []
    },
    {
      "cell_type": "markdown",
      "source": [
        "**Strategy DI**"
      ],
      "metadata": {
        "id": "Zuwa8SyjRuFE"
      }
    },
    {
      "cell_type": "code",
      "source": [
        "def strategy_DI(P_close, n):\n",
        "    DI_ = DI(P_close, n, MA_type=\"SMA\")\n",
        "    \n",
        "    s=[np.nan]\n",
        "    for i in range(1,len(DI_)):\n",
        "        if np.isnan(DI_[i]):\n",
        "            s.append(np.nan)\n",
        "        elif ((DI_[i]>0)&(DI_[i-1]<0)):\n",
        "            s.append(1)\n",
        "        elif ((DI_[i]<0)&(DI_[i-1]>0)):\n",
        "            s.append(-1)\n",
        "        else:\n",
        "            s.append(0)\n",
        "            \n",
        "    return s"
      ],
      "metadata": {
        "id": "agMkpNZnRu92"
      },
      "execution_count": null,
      "outputs": []
    },
    {
      "cell_type": "markdown",
      "source": [
        "**Strategy ERI**"
      ],
      "metadata": {
        "id": "JfNwESPnRwha"
      }
    },
    {
      "cell_type": "code",
      "source": [
        "def strategy_ERI(P_close, P_high, P_low, n=13):\n",
        "    BuP_ = ERI(P_close, P_high, P_low, n)[0]\n",
        "    BeP_ = ERI(P_close, P_high, P_low, n)[1]\n",
        "    \n",
        "    s=[np.nan]\n",
        "    for i in range(1, len(BuP_)):\n",
        "        if ((BeP_[i]>0)&(BeP_[i-1]<0)):\n",
        "            s.append(1)\n",
        "        elif ((BuP_[i]<0)&(BuP_[i-1]>0)):\n",
        "\n",
        "            s.append(-1)\n",
        "        else:\n",
        "            s.append(0)\n",
        "            \n",
        "    return s"
      ],
      "metadata": {
        "id": "1UBPEhCTRyed"
      },
      "execution_count": null,
      "outputs": []
    },
    {
      "cell_type": "markdown",
      "source": [
        "**Strategy MAE**"
      ],
      "metadata": {
        "id": "Vu8QKb3jUfrX"
      }
    },
    {
      "cell_type": "code",
      "source": [
        "def strategy_MAE(P, upper, lower, n1, MA_type, MAE_type=\"LL\"):\n",
        "\tif n1 >= 0:\n",
        "\t\tUL, LL, MA = [], [], []\n",
        "\t\tif MA_type == \"SMA\":\n",
        "\t\t\tMA = SMA(P, n1)\n",
        "\t\telif MA_type == \"EMA\":\n",
        "\t\t\tMA = EMA(P, n1)\n",
        "\t\telif MA_type == \"LWMA\":\n",
        "\t\t\tMA = LWMA(P, n1)\n",
        "\n",
        "\t\tfor i in range(len(P)):\n",
        "\t\t\tUL.append((1+upper)*MA[i])\n",
        "\t\t\tLL.append((1-lower)*MA[i])\n",
        "\t\tif MA_type != \"EMA\":\n",
        "\t\t\ts=[np.nan for k in range(n1)]\n",
        "\t\t\tif MAE_type == \"UL\":\n",
        "\t\t\t\tfor i in range(n1, len(MA)):\n",
        "\t\t\t\t\tif (P[i-1]<UL[i-1]) and (P[i]>UL[i]):\n",
        "\t\t\t\t\t\ts.append(1)\n",
        "\t\t\t\t\telif (P[i-1]>UL[i-1]) and (P[i]<UL[i]):\n",
        "\t\t\t\t\t\ts.append(-1)\n",
        "\t\t\t\t\telse:\n",
        "\t\t\t\t\t\ts.append(0)\n",
        "\t\t\telif MAE_type == \"LL\":\n",
        "\t\t\t\tfor i in range(n1, len(MA)):\n",
        "\t\t\t\t\tif (P[i-1]<LL[i-1]) and (P[i]>LL[i]):\n",
        "\t\t\t\t\t\ts.append(1)\n",
        "\t\t\t\t\telif (P[i-1]>LL[i-1]) and (P[i]<LL[i]):\n",
        "\t\t\t\t\t\ts.append(-1)\n",
        "\t\t\t\t\telse:\n",
        "\t\t\t\t\t\ts.append(0)\n",
        "\t\telif MA_type == \"EMA\":\n",
        "\t\t\ts=[np.nan]\n",
        "\t\t\tif MAE_type == \"UL\":\n",
        "\t\t\t\tfor i in range(1, len(MA)):\n",
        "\t\t\t\t\tif (P[i-1]<UL[i-1]) and (P[i]>UL[i]):\n",
        "\t\t\t\t\t\ts.append(1)\n",
        "\t\t\t\t\telif (P[i-1]>UL[i-1]) and (P[i]<UL[i]):\n",
        "\t\t\t\t\t\ts.append(-1)\n",
        "\t\t\t\t\telse:\n",
        "\t\t\t\t\t\ts.append(0)\n",
        "\t\t\telif MAE_type == \"LL\":\n",
        "\t\t\t\tfor i in range(1, len(MA)):\n",
        "\t\t\t\t\tif (P[i-1]<LL[i-1]) and (P[i]>LL[i]):\n",
        "\t\t\t\t\t\ts.append(1)\n",
        "\t\t\t\t\telif (P[i-1]>LL[i-1]) and (P[i]<LL[i]):\n",
        "\t\t\t\t\t\ts.append(-1)\n",
        "\t\t\t\t\telse:\n",
        "\t\t\t\t\t\ts.append(0)\n",
        "\t\treturn s\n",
        "\telse:\n",
        "\t\treturn [\"nan\", \"nan\"]"
      ],
      "metadata": {
        "id": "_d23hydZUf8L"
      },
      "execution_count": null,
      "outputs": []
    },
    {
      "cell_type": "code",
      "source": [
        "def signal_convertation(signals):\n",
        "    non_zero_element = 0\n",
        "    converted_signals = []\n",
        "    #елементи на початку ряду можуть бути нулями, ми їх не змінюємо до появи першого сигналу\n",
        "    \n",
        "    for i in range(len(signals)):\n",
        "        if np.isnan(signals[i]):\n",
        "            converted_signals.append(np.nan)\n",
        "        else:\n",
        "            if signals[i] != 0:\n",
        "                non_zero_element = signals[i]\n",
        "                converted_signals.append(signals[i])\n",
        "            else:\n",
        "                converted_signals.append(non_zero_element)\n",
        "                \n",
        "    return converted_signals"
      ],
      "metadata": {
        "id": "CtWg8RPNTn4O"
      },
      "execution_count": null,
      "outputs": []
    },
    {
      "cell_type": "code",
      "source": [
        "def trading_results(price, signal):\n",
        "    results=[\"n/a\" for i in range(len(price))]\n",
        "    open_short, close_short, open_long, close_long = 0, 0, 0, 0\n",
        "    \n",
        "    \n",
        "    for i in range(1,len(signal)):\n",
        "        \n",
        "        if signal[i] == 0 and signal[i-1] == 1:\n",
        "            open_short = i\n",
        "            close_long = i\n",
        "            #рахуємо прибутковість довгої позиції\n",
        "            #result = (price[close_long] - price[open_long])/price[open_long]\n",
        "            result = (price[close_long] - price[open_long])/price[open_long] - 0.4/100\n",
        "            results[i] = result\n",
        "            \n",
        "        if signal[i] == 1 and signal[i-1] == 0:\n",
        "            close_short = i\n",
        "            open_long = i\n",
        "            #рахуємо прибутковість короткої позиції\n",
        "            #result = -(price[close_short] - price[open_short])/price[open_short]\n",
        "            result = -(price[close_short] - price[open_short])/price[open_short] - 0.4/100\n",
        "            results[i] = result\n",
        "            \n",
        "    return(results)"
      ],
      "metadata": {
        "id": "NiDTQwOyYsvO"
      },
      "execution_count": null,
      "outputs": []
    },
    {
      "cell_type": "markdown",
      "source": [
        "***підбір оптимальних параметрів***"
      ],
      "metadata": {
        "id": "6kdySFZFDkBj"
      }
    },
    {
      "cell_type": "code",
      "source": [
        "warnings.filterwarnings(\"ignore\")\n",
        "\n",
        "list_param, list_per, list_result = [], [], []\n",
        "\n",
        "for n_ in range(2,101):\n",
        "  for per_ in [0.01, 0.015, 0.02, 0.025, 0.03]:\n",
        "\n",
        "    columns = ['Date', 'Open', 'High', 'Low', 'Close', 'Volume']\n",
        "    df = pd.read_excel('UX-dailyhistory.xlsx', header = None, skiprows = 1, names = columns)\n",
        "    df.index = df[\"Date\"]\n",
        "    df.index = pd.to_datetime(df.index)\n",
        "    df.drop(['Date', 'Volume'], axis='columns', inplace=True)\n",
        "\n",
        "    df = df.sort_index()\n",
        "\n",
        "    train , test = train_test_split(df, test_size = 0.2, shuffle=False)\n",
        "    df = train\n",
        "\n",
        "    #df[\"PARAM\"] = strategy_MAE(P=df.Close, upper=0, lower=per_, n1=n_, MA_type=\"SMA\", MAE_type=\"LL\")\n",
        "    #df[\"PARAM\"] = strategy_MAE(P=df.Close, upper=0, lower=per_, n1=n_, MA_type=\"EMA\", MAE_type=\"LL\")\n",
        "    #df[\"PARAM\"] = strategy_MAE(P=df.Close, upper=0, lower=per_, n1=n_, MA_type=\"LWMA\", MAE_type=\"LL\")\n",
        "    #df[\"PARAM\"] = strategy_MAE(P=df.Close, upper=per_, lower=0, n1=n_, MA_type=\"SMA\", MAE_type=\"UL\")\n",
        "    #df[\"PARAM\"] = strategy_MAE(P=df.Close, upper=per_, lower=0, n1=n_, MA_type=\"EMA\", MAE_type=\"UL\")\n",
        "    df[\"PARAM\"] = strategy_MAE(P=df.Close, upper=per_, lower=0, n1=n_, MA_type=\"LWMA\", MAE_type=\"UL\")\n",
        "    df[\"PARAM\"] = signal_convertation(df[\"PARAM\"])\n",
        "\n",
        "    df = df.replace(0, np.nan)\n",
        "    df = df.dropna()\n",
        "  \n",
        "    signal = []\n",
        "    for i in range(len(df[\"Close\"])):\n",
        "      if df[\"PARAM\"][i] > 0:\n",
        "          signal.append(1)\n",
        "      else:\n",
        "          signal.append(0)\n",
        "\n",
        "    df[\"Signal\"] = signal\n",
        "\n",
        "    results = trading_results(df[\"Close\"], df[\"Signal\"])\n",
        "\n",
        "    for i in range(len(results)):\n",
        "        if results[i] != 'n/a':\n",
        "            results[i] = results[i]*100\n",
        "        \n",
        "    amount = []\n",
        "    amount_ = 100\n",
        "    for element in results:\n",
        "        if element != 'n/a':\n",
        "            amount_ = amount_*(1+element/100)\n",
        "            amount.append(amount_)\n",
        "        else:\n",
        "            amount.append(element)\n",
        "    amount[0] = 100\n",
        "\n",
        "    for i in range(len(amount)):\n",
        "      if amount[i] != 'n/a':\n",
        "          remember = amount[i]\n",
        "      else:\n",
        "          amount[i] = remember \n",
        "\n",
        "    df[\"Results\"] = amount\n",
        "\n",
        "    list_param.append(n_)\n",
        "    list_per.append(per_)\n",
        "    list_result.append(df[\"Results\"][len(df[\"Results\"])-1])\n",
        "\n",
        "data = {'Param_n': list_param, 'Param_per': list_per, 'Result': list_result }\n",
        "df_final = pd.DataFrame(data)\n",
        "df_final.to_excel(\"LWMA_UL.xlsx\")"
      ],
      "metadata": {
        "id": "DR4EqOtqawsL"
      },
      "execution_count": null,
      "outputs": []
    },
    {
      "cell_type": "code",
      "source": [
        "warnings.filterwarnings(\"ignore\")\n",
        "\n",
        "list_param, list_result = [], []\n",
        "\n",
        "for n_ in range(2,101):\n",
        "\n",
        "  columns = ['Date', 'Open', 'High', 'Low', 'Close', 'Volume']\n",
        "  df = pd.read_excel('UX-dailyhistory.xlsx', header = None, skiprows = 1, names = columns)\n",
        "  df.index = df[\"Date\"]\n",
        "  df.index = pd.to_datetime(df.index)\n",
        "  df.drop(['Date', 'Volume'], axis='columns', inplace=True)\n",
        "\n",
        "  df = df.sort_index()\n",
        "\n",
        "  train , test = train_test_split(df, test_size = 0.2, shuffle=False)\n",
        "  df = train\n",
        "\n",
        "  #df[\"PARAM\"] = strategy_DI(P_close=df.Close, n=n_)\n",
        "  #df[\"PARAM\"] = strategy_ERI(P_close=df.Close, P_high=df.High, P_low=df.Low, n=n_)\n",
        "  #df[\"PARAM\"] = strategy_SO(P_close=df.Close, P_high=df.High, P_low=df.Low, n=n_)\n",
        "  #df[\"PARAM\"] = strategy_CCI(data_close=df.Close, data_high=df.High, data_low=df.Low, n=n_)\n",
        "  #df[\"PARAM\"] = strategy_MA_1(P = df.Close, n1 = n_, MA_type = \"SMA\")\n",
        "  #df[\"PARAM\"] = strategy_MA_1(P = df.Close, n1 = n_, MA_type = \"EMA\")\n",
        "  df[\"PARAM\"] = strategy_MA_1(P = df.Close, n1 = n_, MA_type = \"LWMA\")\n",
        "  df[\"PARAM\"] = signal_convertation(df[\"PARAM\"])\n",
        "  \n",
        "  df = df.replace(0, np.nan)\n",
        "  df = df.dropna()\n",
        "  \n",
        "  signal = []\n",
        "  for i in range(len(df[\"Close\"])):\n",
        "    if df[\"PARAM\"][i] > 0:\n",
        "        signal.append(1)\n",
        "    else:\n",
        "        signal.append(0)\n",
        "\n",
        "  df[\"Signal\"] = signal\n",
        "\n",
        "  results = trading_results(df[\"Close\"], df[\"Signal\"])\n",
        "\n",
        "  for i in range(len(results)):\n",
        "      if results[i] != 'n/a':\n",
        "          results[i] = results[i]*100\n",
        "        \n",
        "  amount = []\n",
        "  amount_ = 100\n",
        "  for element in results:\n",
        "      if element != 'n/a':\n",
        "          amount_ = amount_*(1+element/100)\n",
        "          amount.append(amount_)\n",
        "      else:\n",
        "          amount.append(element)\n",
        "  amount[0] = 100\n",
        "\n",
        "  for i in range(len(amount)):\n",
        "    if amount[i] != 'n/a':\n",
        "        remember = amount[i]\n",
        "    else:\n",
        "        amount[i] = remember \n",
        "\n",
        "  df[\"Results\"] = amount\n",
        "\n",
        "  #df.to_excel('question_.xlsx')\n",
        "\n",
        "  list_param.append(n_)\n",
        "  list_result.append(df[\"Results\"][len(df[\"Results\"])-1])\n",
        "\n",
        "data = {'Param': list_param, 'Result': list_result }\n",
        "df_final = pd.DataFrame(data)\n",
        "df_final.to_excel(\"MA_LWMA.xlsx\")"
      ],
      "metadata": {
        "id": "867uSVvcDsZS"
      },
      "execution_count": null,
      "outputs": []
    },
    {
      "cell_type": "code",
      "source": [
        "columns = ['Date', 'Open', 'High', 'Low', 'Close', 'Volume']\n",
        "df = pd.read_excel('UX-dailyhistory.xlsx', header = None, skiprows = 1, names = columns)\n",
        "df.index = df[\"Date\"]\n",
        "df.index = pd.to_datetime(df.index)\n",
        "df.drop(['Date', 'Volume'], axis='columns', inplace=True)\n",
        "\n",
        "df = df.sort_index()\n",
        "\n",
        "train , test = train_test_split(df, test_size = 0.2, shuffle=False)\n",
        "df = train\n",
        "\n",
        "print(df)\n",
        "print(test)\n",
        "\n",
        "print(( df[\"Close\"][len(df[\"Close\"])-1]/df[\"Close\"][0] ) * 100)"
      ],
      "metadata": {
        "colab": {
          "base_uri": "https://localhost:8080/"
        },
        "id": "I8K6BZXfZ47q",
        "outputId": "4b3cf211-2789-4c58-95ed-7a58a2d28ea8"
      },
      "execution_count": null,
      "outputs": [
        {
          "output_type": "stream",
          "name": "stdout",
          "text": [
            "               Open     High      Low    Close\n",
            "Date                                          \n",
            "2009-03-26   500.00   500.00   500.00   500.00\n",
            "2009-03-27   557.04   567.24   508.31   509.86\n",
            "2009-03-30   509.35   509.87   502.22   509.87\n",
            "2009-03-31   509.70   511.46   509.70   511.46\n",
            "2009-04-01   508.05   521.66   508.05   521.66\n",
            "...             ...      ...      ...      ...\n",
            "2019-07-22  1593.63  1593.63  1587.99  1587.99\n",
            "2019-07-23  1587.99  1604.56  1587.99  1597.37\n",
            "2019-07-24  1597.37  1598.31  1587.52  1587.52\n",
            "2019-07-25  1587.52  1587.52  1587.52  1587.52\n",
            "2019-07-26  1587.52  1587.52  1587.52  1587.52\n",
            "\n",
            "[2549 rows x 4 columns]\n",
            "               Open     High      Low    Close\n",
            "Date                                          \n",
            "2019-07-29  1587.52  1614.96  1587.52  1614.96\n",
            "2019-07-30  1614.96  1614.96  1603.24  1603.24\n",
            "2019-07-31  1603.24  1610.91  1601.91  1601.91\n",
            "2019-08-01  1601.91  1601.91  1601.91  1601.91\n",
            "2019-08-02  1601.91  1601.91  1583.93  1583.93\n",
            "...             ...      ...      ...      ...\n",
            "2022-02-18  1785.48  1796.03  1765.74  1774.84\n",
            "2022-02-21  1774.84  1803.77  1766.02  1766.02\n",
            "2022-02-22  1766.02  1787.89  1718.72  1759.73\n",
            "2022-02-23  1759.73  1792.64  1718.50  1718.50\n",
            "2022-02-25  1718.50  1718.50  1718.50  1718.50\n",
            "\n",
            "[638 rows x 4 columns]\n",
            "317.504\n"
          ]
        }
      ]
    },
    {
      "cell_type": "code",
      "source": [
        ""
      ],
      "metadata": {
        "id": "KCrJuhWjxH1o"
      },
      "execution_count": null,
      "outputs": []
    }
  ]
}